{
 "cells": [
  {
   "cell_type": "markdown",
   "metadata": {},
   "source": [
    "### In this demo, you'll see different modes of AES block cipher and their properties."
   ]
  },
  {
   "cell_type": "code",
   "execution_count": 1,
   "metadata": {},
   "outputs": [],
   "source": [
    "from Crypto.Cipher import AES # NOTE: you may need to install PyCrypto package\n",
    "from Crypto.Random import get_random_bytes\n",
    "from Crypto.Util import Counter\n",
    "import random"
   ]
  },
  {
   "cell_type": "code",
   "execution_count": 2,
   "metadata": {},
   "outputs": [],
   "source": [
    "def pad(data, length=16):\n",
    "    \"\"\"pads data to nearest multiple of length (default 16 bytes = 128 bits)\"\"\"\n",
    "    return data + \"-\" * (16 - (len(data) % length))\n",
    "\n",
    "def hexify(data):\n",
    "    # Source: https://stackoverflow.com/questions/12214801/print-a-string-as-hex-bytes\n",
    "    return \":\".join(\"{:02x}\".format(c) for c in data)\n",
    "    \n",
    "\n",
    "plaintext = \"The world wonders\"\n",
    "            #----------------=\n",
    "    \n",
    "# Some modes of operation require padding to nearest 128 bits (16 bytes)\n",
    "plaintext_padded = pad(plaintext)\n",
    "\n",
    "key = get_random_bytes(16)"
   ]
  },
  {
   "cell_type": "code",
   "execution_count": 3,
   "metadata": {},
   "outputs": [],
   "source": [
    "def blockPrint(data):\n",
    "    index = 0\n",
    "    hexdata = \":\".join(\"{:02x}\".format(c) for c in data)\n",
    "    length = len(hexdata)\n",
    "    while index < length:\n",
    "        print(hexdata[index:min(index + 2*16 + 15, length)])\n",
    "        index += 3*16\n",
    "\n",
    "def xorBlockPrint(c1, c2):\n",
    "    index = 0\n",
    "    xor = \":\".join([\"{:02x}\".format(c1[c] ^ c2[c]) for c in range(len(c1))]).replace(\"00\", \"--\")\n",
    "    length = len(xor)\n",
    "    while index < length:\n",
    "        print(xor[index:min(index + 2*16 + 15, length)])\n",
    "        index += 3*16"
   ]
  },
  {
   "cell_type": "code",
   "execution_count": 4,
   "metadata": {},
   "outputs": [],
   "source": [
    "def encryptRandom(algorithm, plaintext1, plaintext2):\n",
    "    \"\"\"Encrypts either plaintext at random and returns the ciphertext.\n",
    "       Used when playing IND-CPA games.\"\"\"\n",
    "    return algorithm.encrypt(random.choice([plaintext1, plaintext2]))"
   ]
  },
  {
   "cell_type": "markdown",
   "metadata": {},
   "source": [
    "## IND-CPA with deterministic algorithm: AES-ECB"
   ]
  },
  {
   "cell_type": "markdown",
   "metadata": {},
   "source": [
    "### Encryption"
   ]
  },
  {
   "cell_type": "code",
   "execution_count": 5,
   "metadata": {},
   "outputs": [
    {
     "name": "stdout",
     "output_type": "stream",
     "text": [
      "Encryption of:  The world wonders---------------\n",
      "b8:b8:2d:69:1f:da:2c:03:62:5b:1b:c4:4a:13:f8:6d\n",
      "83:8d:9d:65:24:ed:2d:fa:4b:6a:76:b0:fb:94:e9:32\n"
     ]
    }
   ],
   "source": [
    "AES_ECB = AES.new(key, AES.MODE_ECB)\n",
    "\n",
    "print(\"Encryption of: \", plaintext_padded)\n",
    "blockPrint(AES_ECB.encrypt(plaintext_padded))"
   ]
  },
  {
   "cell_type": "markdown",
   "metadata": {},
   "source": [
    "#### If you reencrypt the same plaintext, the ciphertext is identical"
   ]
  },
  {
   "cell_type": "code",
   "execution_count": 6,
   "metadata": {},
   "outputs": [
    {
     "name": "stdout",
     "output_type": "stream",
     "text": [
      "Encryption of:  The world wonders---------------\n",
      "b8:b8:2d:69:1f:da:2c:03:62:5b:1b:c4:4a:13:f8:6d\n",
      "83:8d:9d:65:24:ed:2d:fa:4b:6a:76:b0:fb:94:e9:32\n"
     ]
    }
   ],
   "source": [
    "print(\"Encryption of: \", plaintext_padded)\n",
    "blockPrint(AES_ECB.encrypt(plaintext_padded))"
   ]
  },
  {
   "cell_type": "markdown",
   "metadata": {},
   "source": [
    "### Decryption"
   ]
  },
  {
   "cell_type": "code",
   "execution_count": 7,
   "metadata": {},
   "outputs": [
    {
     "name": "stdout",
     "output_type": "stream",
     "text": [
      "Decryption of: \n",
      "b8:b8:2d:69:1f:da:2c:03:62:5b:1b:c4:4a:13:f8:6d\n",
      "83:8d:9d:65:24:ed:2d:fa:4b:6a:76:b0:fb:94:e9:32\n",
      "b'The world wonders---------------'\n"
     ]
    }
   ],
   "source": [
    "ciphertext = AES_ECB.encrypt(plaintext_padded)\n",
    "print(\"Decryption of: \")\n",
    "blockPrint(ciphertext)\n",
    "print(AES_ECB.decrypt(ciphertext))"
   ]
  },
  {
   "cell_type": "markdown",
   "metadata": {},
   "source": [
    "### For an attacker, winning the IND-CPA game against AES-ECB is easy"
   ]
  },
  {
   "cell_type": "code",
   "execution_count": 8,
   "metadata": {},
   "outputs": [
    {
     "name": "stdout",
     "output_type": "stream",
     "text": [
      "Ciphertext returned by the oracle:\n",
      "76:37:ff:5a:44:e5:03:92:53:94:99:67:e4:02:02:0a\n",
      "8b:98:7f:62:0e:3e:1e:9e:77:a9:9d:d2:17:fc:77:22\n",
      "\n",
      "Encryption of plaintext 1:\n",
      "39:88:3c:39:38:3c:e0:d7:64:f0:b8:e1:fa:fe:23:58\n",
      "cb:ad:14:c9:42:e0:66:00:51:e5:4d:b6:f7:20:e4:5f\n",
      "\n",
      "Encryption of plaintext 2:\n",
      "76:37:ff:5a:44:e5:03:92:53:94:99:67:e4:02:02:0a\n",
      "8b:98:7f:62:0e:3e:1e:9e:77:a9:9d:d2:17:fc:77:22\n",
      "\n",
      "Oracle's ciphertext is encryption of plaintext 2\n"
     ]
    }
   ],
   "source": [
    "\"\"\"Wins the IND-CPA game against AES-ECB as an attacker.\"\"\"\n",
    "\n",
    "# Main game: provide two plaintexts, cipher selects one\n",
    "plaintext1 = pad(\"This is a plaintext\")\n",
    "plaintext2 = pad(\"A completely different one\")\n",
    "ciphertext = encryptRandom(AES_ECB, plaintext1, plaintext2)\n",
    "print(\"Ciphertext returned by the oracle:\")\n",
    "blockPrint(ciphertext)\n",
    "\n",
    "# Attacker can obtain additional encryptions of plaintexts.\n",
    "ciphertext1 = AES_ECB.encrypt(plaintext1)\n",
    "ciphertext2 = AES_ECB.encrypt(plaintext2)\n",
    "print(\"\\nEncryption of plaintext 1:\")\n",
    "blockPrint(ciphertext1)\n",
    "print(\"\\nEncryption of plaintext 2:\")\n",
    "blockPrint(ciphertext2)\n",
    "\n",
    "# Make a guess!\n",
    "if ciphertext == ciphertext1:\n",
    "    print(\"\\nOracle's ciphertext is encryption of plaintext 1\")\n",
    "else:\n",
    "    print(\"\\nOracle's ciphertext is encryption of plaintext 2\")"
   ]
  },
  {
   "cell_type": "markdown",
   "metadata": {
    "collapsed": true
   },
   "source": [
    "## IND-CPA with nondeterministic algorithm: AES-CTR"
   ]
  },
  {
   "cell_type": "markdown",
   "metadata": {},
   "source": [
    "### Encryption"
   ]
  },
  {
   "cell_type": "code",
   "execution_count": 9,
   "metadata": {},
   "outputs": [
    {
     "name": "stdout",
     "output_type": "stream",
     "text": [
      "Encryption of:  The world wonders\n",
      "IV used:  3c:85:98:fb:ea:7e:90:a4\n",
      "44:81:16:c7:93:f9:0f:b6:af:2e:d7:5e:ce:bb:07:03\n",
      "68\n"
     ]
    }
   ],
   "source": [
    "print(\"Encryption of: \", plaintext) #Notice no padding is required!\n",
    "IV = get_random_bytes(8)\n",
    "print(\"IV used: \", hexify(IV))\n",
    "blockPrint(AES.new(key, AES.MODE_CTR, counter=Counter.new(64, prefix=IV)).encrypt(plaintext))"
   ]
  },
  {
   "cell_type": "markdown",
   "metadata": {},
   "source": [
    "#### If you reencrypt the same plaintext with a different IV, the ciphertext is different. This makes an encryption scheme IND-CPA since no correlation can be established between multiple encryptions of similar or same plaintext."
   ]
  },
  {
   "cell_type": "code",
   "execution_count": 10,
   "metadata": {},
   "outputs": [
    {
     "name": "stdout",
     "output_type": "stream",
     "text": [
      "Encryption of:  The world wonders\n",
      "IV used:  2f:bd:20:98:1a:db:b7:b2\n",
      "51:79:c5:3f:a7:88:70:dd:d0:98:32:9d:6b:ee:5f:58\n",
      "08\n"
     ]
    }
   ],
   "source": [
    "print(\"Encryption of: \", plaintext)\n",
    "IV = get_random_bytes(8)\n",
    "print(\"IV used: \", hexify(IV))\n",
    "blockPrint(AES.new(key, AES.MODE_CTR, counter=Counter.new(64, prefix=IV)).encrypt(plaintext))"
   ]
  },
  {
   "cell_type": "markdown",
   "metadata": {},
   "source": [
    "#### However, if you reencrypt the same plaintext with the same IV, the ciphertext is identical"
   ]
  },
  {
   "cell_type": "code",
   "execution_count": 11,
   "metadata": {},
   "outputs": [
    {
     "name": "stdout",
     "output_type": "stream",
     "text": [
      "Two encryptions of:  The world wonders\n",
      "IV used:  79:7f:48:0f:1e:f5:c6:6d\n",
      "First encryption:\n",
      "e6:88:f3:42:81:9e:43:3a:7c:b4:29:f9:5b:91:65:6c\n",
      "c5\n",
      "\n",
      "Second encryption:\n",
      "e6:88:f3:42:81:9e:43:3a:7c:b4:29:f9:5b:91:65:6c\n",
      "c5\n"
     ]
    }
   ],
   "source": [
    "print(\"Two encryptions of: \", plaintext)\n",
    "IV = get_random_bytes(8)\n",
    "print(\"IV used: \", hexify(IV))\n",
    "print(\"First encryption:\")\n",
    "blockPrint(AES.new(key, AES.MODE_CTR, counter=Counter.new(64, prefix=IV)).encrypt(plaintext))\n",
    "print(\"\\nSecond encryption:\")\n",
    "blockPrint(AES.new(key, AES.MODE_CTR, counter=Counter.new(64, prefix=IV)).encrypt(plaintext))"
   ]
  },
  {
   "cell_type": "markdown",
   "metadata": {},
   "source": [
    "### Again, wining the IND-CPA game against AES-CTR with IV reuse is easy"
   ]
  },
  {
   "cell_type": "code",
   "execution_count": null,
   "metadata": {},
   "outputs": [],
   "source": [
    "\"\"\"Wins the IND-CPA game against AES-CTR with IV reuse as an attacker.\"\"\"\n",
    "\n",
    "#Generate IV to reuse\n",
    "IV = get_random_bytes(8) \n",
    "\n",
    "# Main game: provide two plaintexts, cipher selects one\n",
    "plaintext1 = \"A good plaintext to encrypt\"\n",
    "plaintext2 = \"This is another one for you\"\n",
    "ciphertext = encryptRandom(AES.new(key, AES.MODE_CTR, counter=Counter.new(64, prefix=IV)), plaintext1, plaintext2)\n",
    "print(\"Ciphertext returned by the oracle:\")\n",
    "blockPrint(ciphertext)\n",
    "\n",
    "# Attacker can obtain additional encryptions of plaintexts.\n",
    "ciphertext1 = AES.new(key, AES.MODE_CTR, counter=Counter.new(64, prefix=IV)).encrypt(plaintext1)\n",
    "ciphertext2 = AES.new(key, AES.MODE_CTR, counter=Counter.new(64, prefix=IV)).encrypt(plaintext2)\n",
    "print(\"\\nEncryption of plaintext 1:\")\n",
    "blockPrint(ciphertext1)\n",
    "print(\"\\nEncryption of plaintext 2:\")\n",
    "blockPrint(ciphertext2)\n",
    "\n",
    "#Make a guess!\n",
    "if ciphertext == ciphertext1:\n",
    "    print(\"\\nOracle's ciphertext is encryption of plaintext 1\")\n",
    "else:\n",
    "    print(\"\\nOracle's ciphertext is encryption of plaintext 2\")"
   ]
  },
  {
   "cell_type": "markdown",
   "metadata": {},
   "source": [
    "# IV compromise\n",
    "If you encrypt a same plaintext with the same IV, two ciphertexts will be identical regardless of the mode of operation. If you encrypt two different plaintexts with the same IV, though, different modes of operation have differing levels of failure. In this section, you will analyze what happens when IV is reused in various AES modes of operation."
   ]
  },
  {
   "cell_type": "markdown",
   "metadata": {},
   "source": [
    "## IV reuse in synchronous stream ciphers [AES-CTR and AES-OFB]\n",
    "Synchronous stream ciphers generate a psuedorandom bit stream that is combined (usually using xor) with plaintext, emulating One Time Pad (OTP). A Synchronous stream cipher's psuedorandom bit stream is dependent only on the key and IV: Plaintext does not affect the bitstream.\n",
    "\n",
    "Since the bitstream is only dependent on the key and IV, IV reuse creates an OTP reuse scenario acoss the entire ciphertext. "
   ]
  },
  {
   "cell_type": "code",
   "execution_count": null,
   "metadata": {},
   "outputs": [],
   "source": [
    "# Generate IV to reuse\n",
    "IV = get_random_bytes(16)\n",
    "\n",
    "# Note one byte of the plaintexts differ in the second block.\n",
    "plaintext1 = \"The plaintext is designed to occupy three blocks\"\n",
    "             #----------------================---------------- Exactly three blocks\n",
    "plaintext2 = \"The plaintext is designed To occupy three blocks\"\n",
    "\n",
    "# OFB mode of operation\n",
    "ciphertext1 = AES.new(key, AES.MODE_OFB, IV=IV).encrypt(plaintext1)\n",
    "ciphertext2 = AES.new(key, AES.MODE_OFB, IV=IV).encrypt(plaintext2)\n",
    "print(\"\\nEncryption of plaintext 1:\")\n",
    "blockPrint(ciphertext1)\n",
    "print(\"\\nEncryption of plaintext 2:\")\n",
    "blockPrint(ciphertext2)\n",
    "\n",
    "print(\"\\nxor of two plaintexts:\")\n",
    "xorBlockPrint([ord(c) for c in plaintext1], [ord(c) for c in plaintext2])\n",
    "\n",
    "print(\"\\nxor of two ciphertexts:\")\n",
    "xorBlockPrint(ciphertext1, ciphertext2)"
   ]
  },
  {
   "cell_type": "markdown",
   "metadata": {},
   "source": [
    "You can tell the two plaintexts are identical except for one byte by only looking at the ciphertexts."
   ]
  },
  {
   "cell_type": "markdown",
   "metadata": {},
   "source": [
    "## IV reuse in AES-CFB\n",
    "AES-CFB uses cipher feedback, which incorporates previous block of plaintext to the input of next block cipher. In case of IV reuse, all ciphertext blocks up to and including the block containing the first differing bit is subject to OTP reuse scenario."
   ]
  },
  {
   "cell_type": "code",
   "execution_count": null,
   "metadata": {},
   "outputs": [],
   "source": [
    "# Generate IV to reuse\n",
    "IV = get_random_bytes(16)\n",
    "\n",
    "# Note one byte of the plaintexts differ in the second block.\n",
    "plaintext1 = \"the plaintext is designed to occupy three blocks\"\n",
    "             #----------------================---------------- Exactly three blocks\n",
    "plaintext2 = \"the plaintext is designed To occupy three blocks\"\n",
    "\n",
    "# CFB mode of operation\n",
    "ciphertext1 = AES.new(key, AES.MODE_CFB, IV=IV, segment_size=128).encrypt(plaintext1)\n",
    "ciphertext2 = AES.new(key, AES.MODE_CFB, IV=IV, segment_size=128).encrypt(plaintext2)\n",
    "print(\"\\nEncryption of plaintext 1:\")\n",
    "blockPrint(ciphertext1)\n",
    "print(\"\\nEncryption of plaintext 2:\")\n",
    "blockPrint(ciphertext2)\n",
    "\n",
    "print(\"\\nxor of two plaintexts:\")\n",
    "xorBlockPrint([ord(c) for c in plaintext1], [ord(c) for c in plaintext2])\n",
    "\n",
    "print(\"\\nxor of two ciphertexts:\")\n",
    "xorBlockPrint(ciphertext1, ciphertext2)"
   ]
  },
  {
   "cell_type": "markdown",
   "metadata": {},
   "source": [
    "## IV reuse in AES-CBC\n",
    "AES-CBC inporporates plaintext block to the input of the block cipher. In case of IV reuse, all ciphertext blocks up to but not including the block containing the first differing bit is subject to OTP reuse scenario."
   ]
  },
  {
   "cell_type": "code",
   "execution_count": null,
   "metadata": {},
   "outputs": [],
   "source": [
    "# Generate IV to reuse\n",
    "IV = get_random_bytes(16)\n",
    "\n",
    "# Note one byte of the plaintexts differ in the second block.\n",
    "plaintext1 = \"The plaintext is designed to occupy three blocks\"\n",
    "             #----------------================---------------- Exactly three blocks\n",
    "plaintext2 = \"The plaintext is designed To occupy three blocks\"\n",
    "\n",
    "# CBC mode of operation\n",
    "ciphertext1 = AES.new(key, AES.MODE_CBC, IV=IV).encrypt(plaintext1)\n",
    "ciphertext2 = AES.new(key, AES.MODE_CBC, IV=IV).encrypt(plaintext2)\n",
    "print(\"\\nEncryption of plaintext 1:\")\n",
    "blockPrint(ciphertext1)\n",
    "print(\"\\nEncryption of plaintext 2:\")\n",
    "blockPrint(ciphertext2)\n",
    "\n",
    "print(\"\\nxor of two plaintexts:\")\n",
    "xorBlockPrint([ord(c) for c in plaintext1], [ord(c) for c in plaintext2])\n",
    "\n",
    "print(\"\\nXor of two ciphertexts:\")\n",
    "xorBlockPrint(ciphertext1, ciphertext2)"
   ]
  },
  {
   "cell_type": "markdown",
   "metadata": {},
   "source": [
    "## Predictable IV in AES-CBC causes it to be IND-CPA insecure\n",
    "AES-CBC inporporates plaintext block to the input of the block cipher. This means if the IV is known in advance, the attacker can choose a plaintext that forces a specific input into the block cipher."
   ]
  },
  {
   "cell_type": "code",
   "execution_count": null,
   "metadata": {},
   "outputs": [],
   "source": [
    "\"\"\"Wins the IND-CPA game against AES-CBC with predictable IV as an attacker.\"\"\"\n",
    "\n",
    "# Generate two IVs known in advance\n",
    "IV1 = get_random_bytes(16)\n",
    "IV2 = get_random_bytes(16)\n",
    "IV3 = get_random_bytes(16)\n",
    "\n",
    "# Note one byte of the plaintexts differ in the second block.\n",
    "# Encode with utf-8 as we will be doing some xor black magic\n",
    "plaintext1 = \"Plain Plaintext.\".encode('utf-8')\n",
    "             #---------------- Exactly one block\n",
    "plaintext2 = \"Spicy Plaintext.\".encode('utf-8')\n",
    "\n",
    "ciphertext = encryptRandom(AES.new(key, AES.MODE_CBC, IV=IV1), plaintext1, plaintext2)\n",
    "print(\"Ciphertext returned by the oracle:\")\n",
    "blockPrint(ciphertext)\n",
    "\n",
    "forged1 = bytes([plaintext1[i] ^ IV1[i] ^ IV2[i] for i in range(len(plaintext1))])\n",
    "forged2 = bytes([plaintext2[i] ^ IV1[i] ^ IV3[i] for i in range(len(plaintext1))])\n",
    "# Attacker can obtain additional encryptions of plaintexts.\n",
    "ciphertext1 = AES.new(key, AES.MODE_CBC, IV=IV2).encrypt(forged1)\n",
    "ciphertext2 = AES.new(key, AES.MODE_CBC, IV=IV3).encrypt(forged2)\n",
    "\n",
    "print(\"\\nEncryption of plaintext 1:\")\n",
    "blockPrint(ciphertext1)\n",
    "print(\"\\nEncryption of plaintext 2:\")\n",
    "blockPrint(ciphertext2)\n",
    "\n",
    "# Make a guess!\n",
    "if ciphertext == ciphertext1:\n",
    "    print(\"\\nOracle's ciphertext is encryption of plaintext 1\")\n",
    "else:\n",
    "    print(\"\\nOracle's ciphertext is encryption of plaintext 2\")"
   ]
  },
  {
   "cell_type": "markdown",
   "metadata": {
    "collapsed": true
   },
   "source": [
    "## Conclusion: \n",
    "Nondeterministic algorithms rely on IV to provide randomness. Reusing IV or letting attacker predict IV may compromise cipher integrity in various levels depending on the mode of operation."
   ]
  }
 ],
 "metadata": {
  "anaconda-cloud": {},
  "kernelspec": {
   "display_name": "Python 3",
   "language": "python",
   "name": "python3"
  },
  "language_info": {
   "codemirror_mode": {
    "name": "ipython",
    "version": 3
   },
   "file_extension": ".py",
   "mimetype": "text/x-python",
   "name": "python",
   "nbconvert_exporter": "python",
   "pygments_lexer": "ipython3",
   "version": "3.7.4"
  }
 },
 "nbformat": 4,
 "nbformat_minor": 1
}
